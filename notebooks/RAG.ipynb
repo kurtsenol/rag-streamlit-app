{
 "cells": [
  {
   "cell_type": "markdown",
   "metadata": {},
   "source": [
    "# Gemma Model"
   ]
  },
  {
   "cell_type": "code",
   "execution_count": 1,
   "metadata": {},
   "outputs": [
    {
     "name": "stderr",
     "output_type": "stream",
     "text": [
      "/opt/anaconda3/envs/rag/lib/python3.8/site-packages/tqdm/auto.py:21: TqdmWarning: IProgress not found. Please update jupyter and ipywidgets. See https://ipywidgets.readthedocs.io/en/stable/user_install.html\n",
      "  from .autonotebook import tqdm as notebook_tqdm\n",
      "/opt/anaconda3/envs/rag/lib/python3.8/site-packages/huggingface_hub/file_download.py:1142: FutureWarning: `resume_download` is deprecated and will be removed in version 1.0.0. Downloads always resume when possible. If you want to force a new download, use `force_download=True`.\n",
      "  warnings.warn(\n",
      "/opt/anaconda3/envs/rag/lib/python3.8/site-packages/huggingface_hub/file_download.py:1142: FutureWarning: `resume_download` is deprecated and will be removed in version 1.0.0. Downloads always resume when possible. If you want to force a new download, use `force_download=True`.\n",
      "  warnings.warn(\n",
      "Downloading shards: 100%|██████████| 2/2 [00:00<00:00,  5.37it/s]\n",
      "Gemma's activation function should be approximate GeLU and not exact GeLU.\n",
      "Changing the activation function to `gelu_pytorch_tanh`.if you want to use the legacy `gelu`, edit the `model.config` to set `hidden_activation=gelu`   instead of `hidden_act`. See https://github.com/huggingface/transformers/pull/29402 for more details.\n",
      "Loading checkpoint shards: 100%|██████████| 2/2 [00:13<00:00,  6.72s/it]\n"
     ]
    },
    {
     "name": "stdout",
     "output_type": "stream",
     "text": [
      "using cpu\n"
     ]
    }
   ],
   "source": [
    "import torch\n",
    "import os\n",
    "from transformers import AutoTokenizer, AutoModelForCausalLM, BitsAndBytesConfig\n",
    "from dotenv import load_dotenv\n",
    "load_dotenv()\n",
    "\n",
    "ACCESS_TOKEN = os.getenv(\"ACCESS_TOKEN\") # reads .env file with ACCESS_TOKEN=<your hugging face access token>\n",
    "\n",
    "model_id = \"google/gemma-2b-it\"\n",
    "tokenizer = AutoTokenizer.from_pretrained(model_id, token=ACCESS_TOKEN)\n",
    "# quantization_config = BitsAndBytesConfig(load_in_4bit=True, \n",
    "#                                          bnb_4bit_use_double_quant=True,\n",
    "#                                          bnb_4bit_compute_dtype=torch.bfloat16)\n",
    "\n",
    "model = AutoModelForCausalLM.from_pretrained(model_id, \n",
    "                                             device_map={\"\": torch.device(\"cpu\")}, \n",
    "                                            #  quantization_config=quantization_config,\n",
    "                                             token=ACCESS_TOKEN)\n",
    "model.eval()\n",
    "# device = 'cuda' if torch.cuda.is_available() else 'cpu'\n",
    "device = 'cpu'\n",
    "print(f\"using {device}\")\n",
    "\n",
    "\n"
   ]
  },
  {
   "cell_type": "code",
   "execution_count": 2,
   "metadata": {},
   "outputs": [
    {
     "name": "stdout",
     "output_type": "stream",
     "text": [
      "Sure, here's a brief answer to the question:\n",
      "\n",
      "A transformer is an electrical device that transfers energy from one circuit to another through inductively coupled conductors. It is used to increase or decrease the voltage of an alternating current (AC) signal.\n"
     ]
    }
   ],
   "source": [
    "def inference(question: str, context: str):\n",
    "\n",
    "    if context == None or context == \"\":\n",
    "        prompt = f\"\"\"Give a brief answer to the following question. Question: {question}\"\"\"\n",
    "    else:\n",
    "        prompt = f\"\"\"Using the information contained in the context, give a detailed answer to the question.\n",
    "            Context: {context}.\n",
    "            Question: {question}\"\"\"\n",
    "    chat = [\n",
    "        {\"role\": \"user\", \"content\": prompt},\n",
    "        # { \"role\": \"model\", \"content\": \"Recurrent Attention (RAG)** is a novel neural network architecture specifically designed\" }\n",
    "    ]\n",
    "    formatted_prompt = tokenizer.apply_chat_template(\n",
    "        chat,\n",
    "        tokenize=False,\n",
    "        add_generation_prompt=True,\n",
    "    )\n",
    "    inputs = tokenizer.encode(\n",
    "        formatted_prompt, add_special_tokens=False, return_tensors=\"pt\"\n",
    "    ).to(device)\n",
    "    with torch.no_grad():\n",
    "        outputs = model.generate(\n",
    "            input_ids=inputs,\n",
    "            max_new_tokens=250,\n",
    "            do_sample=False,\n",
    "        )\n",
    "    response = tokenizer.decode(outputs[0], skip_special_tokens=False)\n",
    "    response = response[len(formatted_prompt) :]  # remove input prompt from reponse\n",
    "    response = response.replace(\"<eos>\", \"\")  # remove eos token\n",
    "    return response\n",
    "\n",
    "\n",
    "question = \"What is a transformer?\"\n",
    "print(inference(question=question, context=\"\"))"
   ]
  },
  {
   "cell_type": "markdown",
   "metadata": {},
   "source": [
    "# Document Loading and Splitting"
   ]
  },
  {
   "cell_type": "code",
   "execution_count": 8,
   "metadata": {},
   "outputs": [],
   "source": [
    "# from langchain.document_loaders import PyPDFLoader\n",
    "\n",
    "# loaders = [\n",
    "#     PyPDFLoader(\"/home/eversberg/Downloads/1706.03762.pdf\"),\n",
    "#     PyPDFLoader(\"/home/eversberg/Downloads/2005.11401.pdf\"),\n",
    "# ]\n",
    "# pages = []\n",
    "# for loader in loaders:\n",
    "#     pages.extend(loader.load())"
   ]
  },
  {
   "cell_type": "code",
   "execution_count": 4,
   "metadata": {},
   "outputs": [],
   "source": [
    "# Load text from files\n",
    "txt_files = [\"../files/test-suite.txt\"]\n",
    "txt_documents = []\n",
    "for file in txt_files:\n",
    "    with open(file, 'r') as f:\n",
    "        content = f.read()\n",
    "        txt_documents.append(content)"
   ]
  },
  {
   "cell_type": "code",
   "execution_count": 6,
   "metadata": {},
   "outputs": [],
   "source": [
    "\n",
    "# Convert text into document format\n",
    "from langchain.schema import Document\n",
    "\n",
    "docs = [Document(page_content=txt, metadata={\"source\": file}) for txt, file in zip(txt_documents, txt_files)]\n"
   ]
  },
  {
   "cell_type": "code",
   "execution_count": 7,
   "metadata": {},
   "outputs": [],
   "source": [
    "from langchain.text_splitter import TokenTextSplitter\n",
    "# Split text into chunks\n",
    "text_splitter = TokenTextSplitter(chunk_size=128, chunk_overlap=12)\n",
    "split_docs = text_splitter.split_documents(docs)"
   ]
  },
  {
   "cell_type": "code",
   "execution_count": 9,
   "metadata": {},
   "outputs": [],
   "source": [
    "# from langchain.text_splitter import TokenTextSplitter\n",
    "\n",
    "# text_splitter = TokenTextSplitter(chunk_size=128, chunk_overlap=12)\n",
    "# docs = text_splitter.split_documents(pages)"
   ]
  },
  {
   "cell_type": "code",
   "execution_count": null,
   "metadata": {},
   "outputs": [],
   "source": [
    "# print(docs[0].page_content)"
   ]
  },
  {
   "cell_type": "markdown",
   "metadata": {},
   "source": [
    "# Embeddings and Vector Store"
   ]
  },
  {
   "cell_type": "code",
   "execution_count": 8,
   "metadata": {},
   "outputs": [
    {
     "name": "stderr",
     "output_type": "stream",
     "text": [
      "/opt/anaconda3/envs/rag/lib/python3.8/site-packages/huggingface_hub/file_download.py:1142: FutureWarning: `resume_download` is deprecated and will be removed in version 1.0.0. Downloads always resume when possible. If you want to force a new download, use `force_download=True`.\n",
      "  warnings.warn(\n"
     ]
    }
   ],
   "source": [
    "\n",
    "import numpy as np\n",
    "from langchain_community.embeddings import (\n",
    "    HuggingFaceEmbeddings\n",
    ")\n",
    "encoder = HuggingFaceEmbeddings(model_name='sentence-transformers/all-MiniLM-L12-v2', model_kwargs = {'device': \"cpu\"})\n"
   ]
  },
  {
   "cell_type": "code",
   "execution_count": null,
   "metadata": {},
   "outputs": [],
   "source": [
    "# embeddings1 = encoder.embed_query(\"RAG\")\n",
    "# embeddings2 = encoder.embed_query(docs[0].page_content)\n",
    "# print(np.dot(embeddings1, embeddings2))"
   ]
  },
  {
   "cell_type": "code",
   "execution_count": 10,
   "metadata": {},
   "outputs": [],
   "source": [
    "from langchain.vectorstores import FAISS\n",
    "from langchain_community.vectorstores.utils import DistanceStrategy\n",
    "\n",
    "# create FAISS index with only text documents\n",
    "faiss_db = FAISS.from_documents(split_docs, encoder, distance_strategy=DistanceStrategy.DOT_PRODUCT)"
   ]
  },
  {
   "cell_type": "code",
   "execution_count": 13,
   "metadata": {},
   "outputs": [],
   "source": [
    "# from langchain.vectorstores import FAISS\n",
    "# from langchain_community.vectorstores.utils import DistanceStrategy\n",
    "# faiss_db = FAISS.from_documents(docs, encoder, distance_strategy=DistanceStrategy.DOT_PRODUCT)"
   ]
  },
  {
   "cell_type": "code",
   "execution_count": 13,
   "metadata": {},
   "outputs": [
    {
     "name": "stdout",
     "output_type": "stream",
     "text": [
      "          | qa-xlarge   |\n",
      "\n",
      "Feature: Theme Support\n",
      "\n",
      "  Background: Install and run demo app\n",
      "    Given I have environment data in \"./qa-scenarios/environment-data.yaml\"\n",
      "    Given I have Demo App installed\n",
      "\n",
      "  @MSDK-1400\n",
      "  Scenario: As a Demo App / Pointr Maps user, I should see all components with default colors, When there is no theme related configuration in the test environment\n",
      "    Given the test environment doesn't have any theme related configurations\n",
      " \n",
      " Given I have environment data in \"./qa-scenarios/environment-data.yaml\"\n",
      "        Given I change the language of the test device to a random supported language\n",
      "        Given I have Demo Apps installed\n",
      "\n",
      "    @MSDK-1050 @sanity\n",
      "    Scenario Outline: As a demo app user, I should see a flyover animation, When I launch demo app via deeplink\n",
      "        When I \"<action>\"\n",
      "        Then \"Flyover\n",
      "    @MSDK-220\n",
      "    Scenario: As a demo app user, I should see fallback icon, When I highlight a rich POI with a broken/unsupported logo\n",
      "        Given test environment is \"Mock Office\"\n",
      "        When I type \"POI-3\" into \"Search Input\"\n",
      "        And I click on \"First UnGrouped Search Result\"\n",
      "        Then \"Rich POI Details Modal\" should be displayed\n",
      "      \n",
      "\n"
     ]
    }
   ],
   "source": [
    "question = f\"\"\"Check if there is a relevant test scenario that covers the issue raised by the following jira bug ticket. \n",
    "{test_scenario}\n",
    "Provide the answer in the below snytax.\n",
    "If there is a relevant scenario:\n",
    "'''\n",
    "Scenario Id = @MSDK-xxx (Each scenario has its own id tag at the beginning)\n",
    "Coverage Percantage: xx% (provide a coverage percemtage on a scale from 1 to 100, where 1 is there is very small coverage and 100 is there is exact coverage. \n",
    "Description: xxx (optional, if there is any additional comments)\n",
    "'''\n",
    "If there isn't any relevant scenario: \n",
    "'''There isn't any relevant test scenarios that cover the issue raised by the Jira bug ticket.\n",
    "'''\n",
    "\"\"\"\n",
    "\n",
    "retrieved_docs = faiss_db.similarity_search(question, k=3)\n",
    "context = \"\".join(doc.page_content + \"\\n\" for doc in retrieved_docs)\n",
    "print(context)"
   ]
  },
  {
   "cell_type": "code",
   "execution_count": 12,
   "metadata": {},
   "outputs": [
    {
     "name": "stdout",
     "output_type": "stream",
     "text": [
      "The relevant test scenario that covers the issue raised by the Jira bug ticket is:\n",
      "\n",
      "**Scenario ID:** @MSDK-1050\n",
      "**Correlation Percentage:** 100%\n",
      "**Description:** As a demo app user, I should see a flyover animation, When I launch demo app via deeplink\n",
      "\n",
      "This scenario perfectly matches the issue described in the Jira bug ticket, where the flyover animation is not displayed when launching the demo app via deeplink.\n"
     ]
    }
   ],
   "source": [
    "torch.cuda.empty_cache()\n",
    "print(inference(question=question, context=context))"
   ]
  },
  {
   "cell_type": "code",
   "execution_count": null,
   "metadata": {},
   "outputs": [],
   "source": [
    "print(\"For this answer I used the following documents:\")\n",
    "for doc in retrieved_docs:\n",
    "    print(doc.metadata)"
   ]
  },
  {
   "cell_type": "code",
   "execution_count": 14,
   "metadata": {},
   "outputs": [],
   "source": [
    "with open(\"../files/queries.txt\", 'r') as f:\n",
    "    queries = f.read()"
   ]
  },
  {
   "cell_type": "code",
   "execution_count": 23,
   "metadata": {},
   "outputs": [],
   "source": [
    "query_list = queries.split(\"Jira id: \") [1:]"
   ]
  },
  {
   "cell_type": "code",
   "execution_count": 24,
   "metadata": {},
   "outputs": [
    {
     "data": {
      "text/plain": [
       "['SDK-7960\\nTicket Title:  Mapwidget should refresh when I scan different QR codes in a row\\nTicket Description: \\n\\n',\n",
       " 'SDK-7879\\nTicket Title:  Enter Building label should disappear when I cancel wayfinding session\\nTicket Description: While I was  testing navigation scenarios, I ran into an issue where the Enter Building label remained on the map after I cancelled the navigation. I tried to reproduce it again but couldn’t. Please check the first 20 seconds of the recording to see the issue.\\n\\n',\n",
       " 'SDK-7796\\nTicket Title:  Zoom level is set incorrect, when I start a navigation while my heading is in the opposite direction of the path\\nTicket Description: Get indoor position, Turn you heading in the opposite direction of the route,\\nSelect a category and click on Take me There button of the destination POI, observe the zoom level is lower than expected.\\n\\n',\n",
       " 'SDK-7969\\nTicket Title: Level Selector should update, when I set up outdoor-to-indoor route and change the level\\nTicket Description: Get outdoor position next to Ter-E, Set up a route to Airport Shuttle at Economy Parking, Change the level, observe the map changes but the level selector doesn’t.\\n\\n\\n',\n",
       " 'SDK-8198\\nTicket Title:  I should not see disabled map tracking button when bacons active and services are turned on\\nTicket Description: the app somehow displayed disabled track button even though everthing is fine and beacons are running.\\n\\n',\n",
       " 'SDK-8197\\nTicket Title:  App should not drop Indoor position or should regain if there are beaons around\\nTicket Description: While testing altbeacons scanning, I set up a route and app dropped indoor position after a while. I tried to switch beacons but it didn’t work. iOS was reponsive to switching beacons. Issue fixed after I exited and relaunched the app. Seems consistent because happened a few times.\\n\\n\\n',\n",
       " 'SDK-8187\\nTicket Title:  I should see small blue dot in the level selector when I expand it\\nTicket Description: Start beacons at level-x, Launch the app at level-y, Expand level selector observe small blue dot is not displayed']"
      ]
     },
     "execution_count": 24,
     "metadata": {},
     "output_type": "execute_result"
    }
   ],
   "source": [
    "query_list"
   ]
  },
  {
   "cell_type": "code",
   "execution_count": 26,
   "metadata": {},
   "outputs": [
    {
     "name": "stdout",
     "output_type": "stream",
     "text": [
      "Check if there is a relevant test scenario that covers the issue raised by the following jira bug ticket. \n",
      "                    SDK-7960\n",
      "Ticket Title:  Mapwidget should refresh when I scan different QR codes in a row\n",
      "Ticket Description: \n",
      "\n",
      "\n",
      "                    Provide the answer in the below snytax.\n",
      "                    If there is a relevant scenario:\n",
      "                    '''\n",
      "                    Scenario Id = @MSDK-xxx (Each scenario has its own id tag at the beginning)\n",
      "                    Coverage Percantage: xx% (provide a coverage percemtage on a scale from 1 to 100, where 1 is there is very small coverage and 100 is there is exact coverage.                     '''\n",
      "                    If there isn't any relevant scenario: \n",
      "                    '''There isn't any relevant test scenarios that cover the issue raised by the Jira bug ticket.\n",
      "                    '''\n",
      "                    \n",
      "There is no relevant test scenario that covers the issue raised by the Jira bug ticket. Therefore, I cannot provide an answer to the question.\n",
      "****************************************************************************************************\n",
      "Check if there is a relevant test scenario that covers the issue raised by the following jira bug ticket. \n",
      "                    SDK-7879\n",
      "Ticket Title:  Enter Building label should disappear when I cancel wayfinding session\n",
      "Ticket Description: While I was  testing navigation scenarios, I ran into an issue where the Enter Building label remained on the map after I cancelled the navigation. I tried to reproduce it again but couldn’t. Please check the first 20 seconds of the recording to see the issue.\n",
      "\n",
      "\n",
      "                    Provide the answer in the below snytax.\n",
      "                    If there is a relevant scenario:\n",
      "                    '''\n",
      "                    Scenario Id = @MSDK-xxx (Each scenario has its own id tag at the beginning)\n",
      "                    Coverage Percantage: xx% (provide a coverage percemtage on a scale from 1 to 100, where 1 is there is very small coverage and 100 is there is exact coverage.                     '''\n",
      "                    If there isn't any relevant scenario: \n",
      "                    '''There isn't any relevant test scenarios that cover the issue raised by the Jira bug ticket.\n",
      "                    '''\n",
      "                    \n",
      "**Scenario Id = @MSDK-1252**\n",
      "\n",
      "**Coverage Percentage: 100%**\n",
      "\n",
      "**Test Scenario:**\n",
      "\n",
      "* As a demo app user, I should have the same experience of outdoor to indoor wayfinding, When I start an indoor to indoor wayfinding and leave the building.\n",
      "* Given 'pathManagerConfiguration_outdoorLevelIndex' is set at cancel a wayfinding session\n",
      "* When I highlight a POI via map, search or quick access menu\n",
      "* And I click on \"Directions Button\" or \"Take me there Button\"\n",
      "* And I click on \"Cancel Button\"\n",
      "* And I consecutively do it 5 times in a row\n",
      "* Then I should verify \"Highlighted Route on the Map\" doesn't remain on the map\n",
      "* And I should verify app doesn't show the building-x' label\n",
      "* When I enter building-x, path guides me to the destination POI via indoor path\n",
      "* I get arrived notification when I arrive at my destination\n",
      "****************************************************************************************************\n",
      "Check if there is a relevant test scenario that covers the issue raised by the following jira bug ticket. \n",
      "                    SDK-7796\n",
      "Ticket Title:  Zoom level is set incorrect, when I start a navigation while my heading is in the opposite direction of the path\n",
      "Ticket Description: Get indoor position, Turn you heading in the opposite direction of the route,\n",
      "Select a category and click on Take me There button of the destination POI, observe the zoom level is lower than expected.\n",
      "\n",
      "\n",
      "                    Provide the answer in the below snytax.\n",
      "                    If there is a relevant scenario:\n",
      "                    '''\n",
      "                    Scenario Id = @MSDK-xxx (Each scenario has its own id tag at the beginning)\n",
      "                    Coverage Percantage: xx% (provide a coverage percemtage on a scale from 1 to 100, where 1 is there is very small coverage and 100 is there is exact coverage.                     '''\n",
      "                    If there isn't any relevant scenario: \n",
      "                    '''There isn't any relevant test scenarios that cover the issue raised by the Jira bug ticket.\n",
      "                    '''\n",
      "                    \n",
      "There is no relevant test scenario that covers the issue raised by the Jira bug ticket. Therefore, I cannot provide an answer to the question.\n",
      "****************************************************************************************************\n",
      "Check if there is a relevant test scenario that covers the issue raised by the following jira bug ticket. \n",
      "                    SDK-7969\n",
      "Ticket Title: Level Selector should update, when I set up outdoor-to-indoor route and change the level\n",
      "Ticket Description: Get outdoor position next to Ter-E, Set up a route to Airport Shuttle at Economy Parking, Change the level, observe the map changes but the level selector doesn’t.\n",
      "\n",
      "\n",
      "\n",
      "                    Provide the answer in the below snytax.\n",
      "                    If there is a relevant scenario:\n",
      "                    '''\n",
      "                    Scenario Id = @MSDK-xxx (Each scenario has its own id tag at the beginning)\n",
      "                    Coverage Percantage: xx% (provide a coverage percemtage on a scale from 1 to 100, where 1 is there is very small coverage and 100 is there is exact coverage.                     '''\n",
      "                    If there isn't any relevant scenario: \n",
      "                    '''There isn't any relevant test scenarios that cover the issue raised by the Jira bug ticket.\n",
      "                    '''\n",
      "                    \n",
      "There isn't any relevant test scenario that covers the issue raised by the Jira bug ticket. Therefore, I cannot provide the answer to the question.\n",
      "****************************************************************************************************\n",
      "Check if there is a relevant test scenario that covers the issue raised by the following jira bug ticket. \n",
      "                    SDK-8198\n",
      "Ticket Title:  I should not see disabled map tracking button when bacons active and services are turned on\n",
      "Ticket Description: the app somehow displayed disabled track button even though everthing is fine and beacons are running.\n",
      "\n",
      "\n",
      "                    Provide the answer in the below snytax.\n",
      "                    If there is a relevant scenario:\n",
      "                    '''\n",
      "                    Scenario Id = @MSDK-xxx (Each scenario has its own id tag at the beginning)\n",
      "                    Coverage Percantage: xx% (provide a coverage percemtage on a scale from 1 to 100, where 1 is there is very small coverage and 100 is there is exact coverage.                     '''\n",
      "                    If there isn't any relevant scenario: \n",
      "                    '''There isn't any relevant test scenarios that cover the issue raised by the Jira bug ticket.\n",
      "                    '''\n",
      "                    \n",
      "**Relevant Test Scenario:**\n",
      "\n",
      "**Scenario Id:** @MSDK-56\n",
      "**Coverage Percentage:** 100%\n",
      "\n",
      "**Scenario Description:**\n",
      "\n",
      "* As a demo app user, I should see a warning dialog with a message like \"Necessary services are disabled\" when I disable Location Services.\n",
      "* When I open Settings of the test device and turn off Location Services, and I switch to the demo app and open mapwidget, then \"Enabled Map Tracking Button\" should be displayed.\n",
      "* And \"Disabled Map Tracking Button\" should not be displayed.\n",
      "\n",
      "**Additional Notes:**\n",
      "\n",
      "* This scenario covers the issue raised by the Jira bug ticket, as it ensures that the disabled map tracking button is not displayed when Location Services are disabled.\n",
      "* The scenario uses a specific test case to verify the issue, where the app is disabled and Location Services are disabled.\n",
      "****************************************************************************************************\n",
      "Check if there is a relevant test scenario that covers the issue raised by the following jira bug ticket. \n",
      "                    SDK-8197\n",
      "Ticket Title:  App should not drop Indoor position or should regain if there are beaons around\n",
      "Ticket Description: While testing altbeacons scanning, I set up a route and app dropped indoor position after a while. I tried to switch beacons but it didn’t work. iOS was reponsive to switching beacons. Issue fixed after I exited and relaunched the app. Seems consistent because happened a few times.\n",
      "\n",
      "\n",
      "\n",
      "                    Provide the answer in the below snytax.\n",
      "                    If there is a relevant scenario:\n",
      "                    '''\n",
      "                    Scenario Id = @MSDK-xxx (Each scenario has its own id tag at the beginning)\n",
      "                    Coverage Percantage: xx% (provide a coverage percemtage on a scale from 1 to 100, where 1 is there is very small coverage and 100 is there is exact coverage.                     '''\n",
      "                    If there isn't any relevant scenario: \n",
      "                    '''There isn't any relevant test scenarios that cover the issue raised by the Jira bug ticket.\n",
      "                    '''\n",
      "                    \n",
      "The relevant test scenario that covers the issue raised by the Jira bug ticket is:\n",
      "\n",
      "**Scenario Id = @MSDK-554**\n",
      "\n",
      "**Coverage Percentage: 100%**\n",
      "\n",
      "**Description:**\n",
      "\n",
      "* This scenario tests the app's ability to regain indoor position when Bluetooth is disabled or beacons are removed.\n",
      "* It ensures that the app starts showing the user's GPS location within 2 minutes of disabling Bluetooth or stopping beacons.\n",
      "* The scenario covers both scenarios mentioned in the Jira bug ticket, where the app dropped indoor position due to beacons being removed or Bluetooth being disabled.\n",
      "****************************************************************************************************\n",
      "Check if there is a relevant test scenario that covers the issue raised by the following jira bug ticket. \n",
      "                    SDK-8187\n",
      "Ticket Title:  I should see small blue dot in the level selector when I expand it\n",
      "Ticket Description: Start beacons at level-x, Launch the app at level-y, Expand level selector observe small blue dot is not displayed\n",
      "                    Provide the answer in the below snytax.\n",
      "                    If there is a relevant scenario:\n",
      "                    '''\n",
      "                    Scenario Id = @MSDK-xxx (Each scenario has its own id tag at the beginning)\n",
      "                    Coverage Percantage: xx% (provide a coverage percemtage on a scale from 1 to 100, where 1 is there is very small coverage and 100 is there is exact coverage.                     '''\n",
      "                    If there isn't any relevant scenario: \n",
      "                    '''There isn't any relevant test scenarios that cover the issue raised by the Jira bug ticket.\n",
      "                    '''\n",
      "                    \n",
      "The relevant test scenario that covers the issue raised by the Jira bug ticket is **SDK-8187** with a coverage percentage of 100%.\n",
      "\n",
      "**Scenario Id:** @MSDK-106\n",
      "\n",
      "**Coverage Percentage:** 100%\n",
      "\n",
      "**Scenario Outline:**\n",
      "\n",
      "* Verify that the level selector disappears when switching from Location Blue Dot to GPS Blue Dot.\n",
      "* Verify that the location of the blue dot, level selector, and the map are updated accordingly.\n",
      "* Stop broadcasting beacons and start broadcasting beacons from Level-3 (L3).\n",
      "* Verify that the level selector displays \"L3\" and the small blue dot is displayed.\n",
      "****************************************************************************************************\n"
     ]
    }
   ],
   "source": [
    "for test_scenario in query_list:\n",
    "\n",
    "    question = f\"\"\"Check if there is a relevant test scenario that covers the issue raised by the following jira bug ticket. \n",
    "                    {test_scenario}\n",
    "                    Provide the answer in the below snytax.\n",
    "                    If there is a relevant scenario:\n",
    "                    '''\n",
    "                    Scenario Id = @MSDK-xxx (Each scenario has its own id tag at the beginning)\n",
    "                    Coverage Percantage: xx% (provide a coverage percemtage on a scale from 1 to 100, where 1 is there is very small coverage and 100 is there is exact coverage.                     '''\n",
    "                    If there isn't any relevant scenario: \n",
    "                    '''There isn't any relevant test scenarios that cover the issue raised by the Jira bug ticket.\n",
    "                    '''\n",
    "                    \"\"\"\n",
    "\n",
    "    retrieved_docs = faiss_db.similarity_search(question, k=3)\n",
    "    context = \"\".join(doc.page_content + \"\\n\" for doc in retrieved_docs)\n",
    "\n",
    "    print(question)\n",
    "\n",
    "    torch.cuda.empty_cache()\n",
    "    print(inference(question=question, context=context))\n",
    "\n",
    "    print(\"*\" * 100)    "
   ]
  },
  {
   "cell_type": "code",
   "execution_count": null,
   "metadata": {},
   "outputs": [],
   "source": []
  }
 ],
 "metadata": {
  "kernelspec": {
   "display_name": "pytorch2",
   "language": "python",
   "name": "python3"
  },
  "language_info": {
   "codemirror_mode": {
    "name": "ipython",
    "version": 3
   },
   "file_extension": ".py",
   "mimetype": "text/x-python",
   "name": "python",
   "nbconvert_exporter": "python",
   "pygments_lexer": "ipython3",
   "version": "3.8.19"
  }
 },
 "nbformat": 4,
 "nbformat_minor": 2
}
